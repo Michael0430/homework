{
 "cells": [
  {
   "cell_type": "code",
   "execution_count": 12,
   "metadata": {},
   "outputs": [
    {
     "name": "stdout",
     "output_type": "stream",
     "text": [
      "('apple', 'banana', 'lemon')\n",
      "('tomato', 'cabbage', 'patato')\n"
     ]
    }
   ],
   "source": [
    "#Create a tuple containing names of fruits and vegetables\n",
    "fruits = ('apple','banana','lemon')\n",
    "vegetables = ('tomato','cabbage','patato')\n",
    "print((fruits))\n",
    "print((vegetables))"
   ]
  },
  {
   "cell_type": "code",
   "execution_count": 13,
   "metadata": {},
   "outputs": [
    {
     "name": "stdout",
     "output_type": "stream",
     "text": [
      "('apple', 'banana', 'lemon', 'tomato', 'cabbage', 'patato')\n"
     ]
    }
   ],
   "source": [
    "#Join fruits and vegetables tuples and assign it to fruits_vegetables\n",
    "fruits_vegetables = fruits+vegetables\n",
    "print(fruits_vegetables)"
   ]
  },
  {
   "cell_type": "code",
   "execution_count": 14,
   "metadata": {},
   "outputs": [
    {
     "name": "stdout",
     "output_type": "stream",
     "text": [
      "6\n"
     ]
    }
   ],
   "source": [
    "#How many fruits_vegetables do you have?\n",
    "print(len(fruits_vegetables))"
   ]
  },
  {
   "cell_type": "code",
   "execution_count": 15,
   "metadata": {},
   "outputs": [
    {
     "name": "stdout",
     "output_type": "stream",
     "text": [
      "('apple', 'banana', 'lemon', 'tomato', 'cabbage', 'patato', 'mushroom', 'COLA')\n"
     ]
    }
   ],
   "source": [
    "#Modify the fruits_vegetables tuple and add the name of your favorite mushroom and beverage and assign it to food_tuple\n",
    "favorite_mushroom =('mushroom',)\n",
    "favorite_beverage = ( 'COLA',)\n",
    "food_tuple = fruits_vegetables+favorite_mushroom+favorite_beverage\n",
    "print(food_tuple)"
   ]
  },
  {
   "cell_type": "code",
   "execution_count": 18,
   "metadata": {},
   "outputs": [
    {
     "name": "stdout",
     "output_type": "stream",
     "text": [
      "('apple', 'banana', 'lemon', 'tomato', 'cabbage', 'patato')\n",
      "mushroom\n",
      "COLA\n"
     ]
    }
   ],
   "source": [
    "#Unpack fruits_vegetables and mushroom and beverage from food_tuple\n",
    "fruits_vegetables = food_tuple[0:6]\n",
    "favorite_mushroom =food_tuple[-2]\n",
    "favorite_beverage =food_tuple[-1]\n",
    "print(fruits_vegetables)\n",
    "print(favorite_mushroom)\n",
    "print(favorite_beverage)"
   ]
  },
  {
   "cell_type": "code",
   "execution_count": 21,
   "metadata": {},
   "outputs": [
    {
     "name": "stdout",
     "output_type": "stream",
     "text": [
      "['apple', 'banana', 'lemon', 'tomato', 'cabbage', 'patato', 'mushroom', 'COLA']\n"
     ]
    }
   ],
   "source": [
    "#Change the about food_tuple tuple to a food_list list\n",
    "food_list = list(food_tuple)\n",
    "print(food_list)"
   ]
  },
  {
   "cell_type": "code",
   "execution_count": 23,
   "metadata": {},
   "outputs": [
    {
     "name": "stdout",
     "output_type": "stream",
     "text": [
      "('tomato', 'cabbage')\n"
     ]
    }
   ],
   "source": [
    "#Slice out the middle item or items from the food_tuple tuple or food_list list.\n",
    "print(food_tuple[3:5])"
   ]
  },
  {
   "cell_type": "code",
   "execution_count": 25,
   "metadata": {},
   "outputs": [
    {
     "name": "stdout",
     "output_type": "stream",
     "text": [
      "('apple', 'banana', 'lemon')\n",
      "['patato', 'mushroom', 'COLA']\n"
     ]
    }
   ],
   "source": [
    "#Slice out the first three items and the last three items from food_list list\n",
    "print(food_tuple[0:3])\n",
    "print(food_list[-3:])"
   ]
  },
  {
   "cell_type": "code",
   "execution_count": 26,
   "metadata": {},
   "outputs": [],
   "source": [
    "#Delete the food_tuple tuple completely\n",
    "del food_tuple"
   ]
  },
  {
   "cell_type": "code",
   "execution_count": 27,
   "metadata": {},
   "outputs": [
    {
     "name": "stdout",
     "output_type": "stream",
     "text": [
      "False\n",
      "True\n"
     ]
    }
   ],
   "source": [
    "#Check if an item exists in tuple:\n",
    "#Check if 'Finland' is a asian country\n",
    "#Check if 'India' is a asian country\n",
    "#asian_countries = ('India','China','Singapore','Thailand','Indonesia')\n",
    "asian_countries = ('India','China','Singapore','Thailand','Indonesia')\n",
    "print('Finland' in asian_countries)     \n",
    "print('India' in asian_countries)    "
   ]
  },
  {
   "cell_type": "code",
   "execution_count": null,
   "metadata": {},
   "outputs": [],
   "source": []
  }
 ],
 "metadata": {
  "kernelspec": {
   "display_name": "Python 3",
   "language": "python",
   "name": "python3"
  },
  "language_info": {
   "codemirror_mode": {
    "name": "ipython",
    "version": 3
   },
   "file_extension": ".py",
   "mimetype": "text/x-python",
   "name": "python",
   "nbconvert_exporter": "python",
   "pygments_lexer": "ipython3",
   "version": "3.8.5"
  }
 },
 "nbformat": 4,
 "nbformat_minor": 4
}
