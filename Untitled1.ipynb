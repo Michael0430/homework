{
 "cells": [
  {
   "cell_type": "code",
   "execution_count": 6,
   "metadata": {},
   "outputs": [
    {
     "name": "stdout",
     "output_type": "stream",
     "text": [
      "23\n"
     ]
    }
   ],
   "source": [
    "#Declare your age as integer variable\n",
    "age = 23\n",
    "print(age)"
   ]
  },
  {
   "cell_type": "code",
   "execution_count": 7,
   "metadata": {},
   "outputs": [
    {
     "name": "stdout",
     "output_type": "stream",
     "text": [
      "1.75\n"
     ]
    }
   ],
   "source": [
    "#Declare your height as a float variable\n",
    "height = 1.75\n",
    "print(height)"
   ]
  },
  {
   "cell_type": "code",
   "execution_count": 12,
   "metadata": {},
   "outputs": [
    {
     "name": "stdout",
     "output_type": "stream",
     "text": [
      "(7+3j) <class 'complex'>\n"
     ]
    }
   ],
   "source": [
    "#Declare a variable that store a complex number\n",
    "a = 7+3j\n",
    "print(a,type(a))"
   ]
  },
  {
   "cell_type": "code",
   "execution_count": 16,
   "metadata": {},
   "outputs": [
    {
     "name": "stdout",
     "output_type": "stream",
     "text": [
      "plz input base:20\n",
      "plz input height:10\n",
      "100\n"
     ]
    }
   ],
   "source": [
    "#Write a code that prompts the user to enter base and height of the triangle and calculate an area of this triangle (area = 0.5 x b x h).\n",
    "base =int(input(\"plz input base:\"))\n",
    "height = int(input(\"plz input height:\"))\n",
    "area = 0.5*base*height\n",
    "print(int(area))"
   ]
  },
  {
   "cell_type": "code",
   "execution_count": 13,
   "metadata": {},
   "outputs": [
    {
     "name": "stdout",
     "output_type": "stream",
     "text": [
      "plz input side a:3\n",
      "plz input side b:4\n",
      "plz input side c:5\n",
      "12\n"
     ]
    }
   ],
   "source": [
    "#Write a code that prompts the user to enter side a, side b, and side c of the triangle. Calculate the perimeter of the triangle (perimeter = a + b + c).\n",
    "sda =int(input(\"plz input side a:\"))\n",
    "sdb = int(input(\"plz input side b:\"))\n",
    "sdc = int(input(\"plz input side c:\"))\n",
    "perimeter = sda+sdb+sdc\n",
    "print(int(perimeter))"
   ]
  },
  {
   "cell_type": "code",
   "execution_count": 21,
   "metadata": {},
   "outputs": [
    {
     "name": "stdout",
     "output_type": "stream",
     "text": [
      "plz input the length 2\n",
      "plz input the width 5\n",
      "area is: 10\n",
      "perimeter is: 14\n"
     ]
    }
   ],
   "source": [
    "#Get length and width of a rectangle using prompt. Calculate its area (area = length x width) and perimeter (perimeter = 2 x (length + width))print('The perimeter =12,side a =5,side b =4')\n",
    "length = int(input('plz input the length '))\n",
    "width = int(input('plz input the width '))\n",
    "area = length*width\n",
    "print(\"area is:\",area)\n",
    "perimeter = 2*(length+width)\n",
    "print(\"perimeter is:\",perimeter)"
   ]
  },
  {
   "cell_type": "code",
   "execution_count": 26,
   "metadata": {},
   "outputs": [
    {
     "name": "stdout",
     "output_type": "stream",
     "text": [
      "plz input the radius 4\n",
      "area is: 50.24\n",
      "circumference is: 25.12\n"
     ]
    }
   ],
   "source": [
    "#Get radius of a circle using prompt. Calculate the area (area = pi x r x r) and circumference (c = 2 x pi x r) where pi = 3.14.\n",
    "radius = int(input('plz input the radius '))\n",
    "area = 3.14*radius*radius\n",
    "circumference = 2*3.14*radius\n",
    "print(\"area is:\",float(area))\n",
    "print(\"circumference is:\",float(circumference))"
   ]
  },
  {
   "cell_type": "code",
   "execution_count": 28,
   "metadata": {},
   "outputs": [
    {
     "name": "stdout",
     "output_type": "stream",
     "text": [
      "8\n"
     ]
    }
   ],
   "source": [
    "#Find the slope and Euclidean distance between point (2, 2) and point (6,10)\n",
    "import numpy as np\n",
    "import math\n",
    "p1=np.array([2,2])\n",
    "p2=np.array([6,10])\n",
    "p3=p2-p1\n",
    "p4=math.hypot(p3[0],p3[1])\n",
    "print(int(p4))"
   ]
  },
  {
   "cell_type": "code",
   "execution_count": 31,
   "metadata": {},
   "outputs": [
    {
     "name": "stdout",
     "output_type": "stream",
     "text": [
      "2\n"
     ]
    }
   ],
   "source": [
    "#Find the slope and Euclidean distance between point (2, 2) and point (6,10)\n",
    "p1 = [2, 2]\n",
    "p2 = [6, 10] \n",
    "slope = abs((p1[1] - p2[1]) / (p1[0] - p2[0] )) \n",
    "print(int(slope))"
   ]
  },
  {
   "cell_type": "code",
   "execution_count": 25,
   "metadata": {},
   "outputs": [
    {
     "name": "stdout",
     "output_type": "stream",
     "text": [
      "[-3]\n"
     ]
    }
   ],
   "source": [
    "#Calculate the value of y ( 𝑦=𝑥*x+6𝑥+9 ). Try to use different x values and figure out at what x value y is going to be 0.\n",
    "from sympy import *\n",
    "x = symbols('x')\n",
    "print(solve(x*x+6*x+9,x))"
   ]
  },
  {
   "cell_type": "code",
   "execution_count": 32,
   "metadata": {},
   "outputs": [
    {
     "data": {
      "text/plain": [
       "False"
      ]
     },
     "execution_count": 32,
     "metadata": {},
     "output_type": "execute_result"
    }
   ],
   "source": [
    "#Find the length of 'python' and 'datascience' and make a falsy comparison statement.\n",
    "len(str('python'))\n",
    "len(str('python'))\n",
    "len(str('python'))>len(str('python'))"
   ]
  },
  {
   "cell_type": "code",
   "execution_count": 33,
   "metadata": {},
   "outputs": [
    {
     "name": "stdout",
     "output_type": "stream",
     "text": [
      "true\n"
     ]
    }
   ],
   "source": [
    "#I hope this course is not full of jargon. Use in operator to check if jargon is in the sentence.\n",
    "a = 'I hope this course is not full of jargon.'\n",
    "if 'jargon' in a:\n",
    "    print('true')\n",
    "else:\n",
    "    print(flase)"
   ]
  },
  {
   "cell_type": "code",
   "execution_count": 34,
   "metadata": {},
   "outputs": [
    {
     "name": "stdout",
     "output_type": "stream",
     "text": [
      "6.0\n"
     ]
    }
   ],
   "source": [
    "#Find the length of the text python and convert the value to float and convert it to string\n",
    "print(str(float(len(str('python')))))"
   ]
  },
  {
   "cell_type": "code",
   "execution_count": 2,
   "metadata": {},
   "outputs": [
    {
     "name": "stdout",
     "output_type": "stream",
     "text": [
      "a:8\n",
      "even\n"
     ]
    }
   ],
   "source": [
    "#Even numbers are divisible by 2 and the remainder is zero. How do you check if a number is even or not using python?\n",
    "num =int( input('a:'))\n",
    "if num % 2 == 0:\n",
    "    print('even')\n",
    "else:\n",
    "    print('odd')\n",
    "\n"
   ]
  },
  {
   "cell_type": "code",
   "execution_count": 3,
   "metadata": {},
   "outputs": [
    {
     "data": {
      "text/plain": [
       "False"
      ]
     },
     "execution_count": 3,
     "metadata": {},
     "output_type": "execute_result"
    }
   ],
   "source": [
    "#Check if the floor division of 7 by 3 is equal to the int converted value of 2.7.\n",
    "7/3 ==2.7"
   ]
  },
  {
   "cell_type": "code",
   "execution_count": 4,
   "metadata": {},
   "outputs": [
    {
     "data": {
      "text/plain": [
       "False"
      ]
     },
     "execution_count": 4,
     "metadata": {},
     "output_type": "execute_result"
    }
   ],
   "source": [
    "#Check if type of \"10\" is equal to type of 10\n",
    "type('10') == type(10)"
   ]
  },
  {
   "cell_type": "code",
   "execution_count": null,
   "metadata": {},
   "outputs": [],
   "source": []
  }
 ],
 "metadata": {
  "kernelspec": {
   "display_name": "Python 3",
   "language": "python",
   "name": "python3"
  },
  "language_info": {
   "codemirror_mode": {
    "name": "ipython",
    "version": 3
   },
   "file_extension": ".py",
   "mimetype": "text/x-python",
   "name": "python",
   "nbconvert_exporter": "python",
   "pygments_lexer": "ipython3",
   "version": "3.8.5"
  },
  "toc": {
   "base_numbering": 1,
   "nav_menu": {},
   "number_sections": true,
   "sideBar": true,
   "skip_h1_title": false,
   "title_cell": "Table of Contents",
   "title_sidebar": "Contents",
   "toc_cell": false,
   "toc_position": {},
   "toc_section_display": true,
   "toc_window_display": false
  }
 },
 "nbformat": 4,
 "nbformat_minor": 5
}
